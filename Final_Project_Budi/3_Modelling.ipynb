{
 "cells": [
  {
   "cell_type": "code",
   "execution_count": 1,
   "metadata": {},
   "outputs": [],
   "source": [
    "import pandas as pd\n",
    "import numpy as np\n",
    "import seaborn as sns\n",
    "import matplotlib.pyplot as plt\n",
    "\n"
   ]
  },
  {
   "cell_type": "code",
   "execution_count": 2,
   "metadata": {},
   "outputs": [],
   "source": [
    "df = pd.read_csv('summer-products-with-rating-and-performance_2020-08.csv')"
   ]
  },
  {
   "cell_type": "code",
   "execution_count": 3,
   "metadata": {},
   "outputs": [],
   "source": [
    "df_cln = pd.read_csv('df_clean.csv')"
   ]
  },
  {
   "cell_type": "markdown",
   "metadata": {},
   "source": [
    "### __3. Splitting ke Train Test set__"
   ]
  },
  {
   "cell_type": "code",
   "execution_count": 4,
   "metadata": {},
   "outputs": [],
   "source": [
    "from sklearn.model_selection import train_test_split\n",
    "from sklearn.tree import DecisionTreeRegressor\n",
    "from sklearn.ensemble import RandomForestRegressor\n",
    "from sklearn.linear_model import LogisticRegression\n",
    "from sklearn.model_selection import GridSearchCV\n",
    "from sklearn.metrics import mean_squared_error as MSE\n",
    "from sklearn.model_selection import cross_val_score\n",
    "from sklearn.preprocessing import MinMaxScaler\n",
    "from sklearn.neighbors import KNeighborsRegressor\n",
    "from sklearn.linear_model import LinearRegression\n",
    "from sklearn.metrics import mean_absolute_error\n",
    "from sklearn.metrics import r2_score\n",
    "from math import sqrt\n",
    "from sklearn.preprocessing import StandardScaler\n",
    "from sklearn import metrics\n"
   ]
  },
  {
   "cell_type": "code",
   "execution_count": 5,
   "metadata": {},
   "outputs": [],
   "source": [
    "df_mod = df_cln.copy()"
   ]
  },
  {
   "cell_type": "code",
   "execution_count": 6,
   "metadata": {},
   "outputs": [],
   "source": [
    "df_fix = df_mod[['price','uses_ad_boosts','retail_price','rating_count','rating','badge_local_product','badge_product_quality','badge_fast_shipping','merchant_rating_count','merchant_rating','units_sold']]"
   ]
  },
  {
   "cell_type": "code",
   "execution_count": 7,
   "metadata": {},
   "outputs": [
    {
     "name": "stdout",
     "output_type": "stream",
     "text": [
      "<class 'pandas.core.frame.DataFrame'>\n",
      "RangeIndex: 1514 entries, 0 to 1513\n",
      "Data columns (total 11 columns):\n",
      " #   Column                 Non-Null Count  Dtype  \n",
      "---  ------                 --------------  -----  \n",
      " 0   price                  1514 non-null   float64\n",
      " 1   uses_ad_boosts         1514 non-null   int64  \n",
      " 2   retail_price           1514 non-null   int64  \n",
      " 3   rating_count           1514 non-null   int64  \n",
      " 4   rating                 1514 non-null   float64\n",
      " 5   badge_local_product    1514 non-null   int64  \n",
      " 6   badge_product_quality  1514 non-null   int64  \n",
      " 7   badge_fast_shipping    1514 non-null   int64  \n",
      " 8   merchant_rating_count  1514 non-null   int64  \n",
      " 9   merchant_rating        1514 non-null   float64\n",
      " 10  units_sold             1514 non-null   int64  \n",
      "dtypes: float64(3), int64(8)\n",
      "memory usage: 130.2 KB\n"
     ]
    }
   ],
   "source": [
    "df_fix.info()"
   ]
  },
  {
   "cell_type": "code",
   "execution_count": 8,
   "metadata": {},
   "outputs": [],
   "source": [
    "X = df_fix.drop('units_sold',axis = 1)\n",
    "y = df_fix['units_sold']"
   ]
  },
  {
   "cell_type": "code",
   "execution_count": 9,
   "metadata": {},
   "outputs": [],
   "source": [
    "X_train,X_test,y_train,y_test = train_test_split(X,y, test_size = 0.2, random_state = 42)"
   ]
  },
  {
   "cell_type": "markdown",
   "metadata": {},
   "source": [
    "### __4. Membuat Model__"
   ]
  },
  {
   "cell_type": "markdown",
   "metadata": {},
   "source": [
    "#### RandomForest"
   ]
  },
  {
   "cell_type": "code",
   "execution_count": 10,
   "metadata": {},
   "outputs": [
    {
     "data": {
      "text/plain": [
       "RandomForestRegressor(n_estimators=1000, random_state=42)"
      ]
     },
     "execution_count": 10,
     "metadata": {},
     "output_type": "execute_result"
    }
   ],
   "source": [
    "model = RandomForestRegressor(n_estimators = 1000,random_state = 42)\n",
    "model.fit(X_train,y_train)"
   ]
  },
  {
   "cell_type": "code",
   "execution_count": 11,
   "metadata": {},
   "outputs": [
    {
     "data": {
      "text/plain": [
       "0.7151501938305703"
      ]
     },
     "execution_count": 11,
     "metadata": {},
     "output_type": "execute_result"
    }
   ],
   "source": [
    "model.score(X_test,y_test)"
   ]
  },
  {
   "cell_type": "markdown",
   "metadata": {},
   "source": [
    "#### LinearRegression"
   ]
  },
  {
   "cell_type": "code",
   "execution_count": 12,
   "metadata": {},
   "outputs": [
    {
     "data": {
      "text/plain": [
       "LinearRegression()"
      ]
     },
     "execution_count": 12,
     "metadata": {},
     "output_type": "execute_result"
    }
   ],
   "source": [
    "model1 = LinearRegression()\n",
    "model1.fit(X_train,y_train)"
   ]
  },
  {
   "cell_type": "code",
   "execution_count": 13,
   "metadata": {},
   "outputs": [
    {
     "data": {
      "text/plain": [
       "0.6182544743284977"
      ]
     },
     "execution_count": 13,
     "metadata": {},
     "output_type": "execute_result"
    }
   ],
   "source": [
    "model1.score(X_test,y_test)"
   ]
  },
  {
   "cell_type": "code",
   "execution_count": 14,
   "metadata": {},
   "outputs": [],
   "source": [
    "scores = pd.DataFrame({'RandomForest': model.score(X_test,y_test),\n",
    "                       'LinearRegression': model1.score(X_test,y_test)},\n",
    "                        index = [0])"
   ]
  },
  {
   "cell_type": "code",
   "execution_count": 15,
   "metadata": {},
   "outputs": [
    {
     "data": {
      "image/png": "[encoded data removed]",
      "text/plain": [
       "<Figure size 720x720 with 1 Axes>"
      ]
     },
     "metadata": {
      "needs_background": "light"
     },
     "output_type": "display_data"
    }
   ],
   "source": [
    "scores.T.plot(kind = 'bar',\n",
    "              figsize = (10,10))\n",
    "plt.title('Scores of all Model')\n",
    "plt.xlabel('Model Name')\n",
    "plt.ylabel('Scores');"
   ]
  },
  {
   "cell_type": "code",
   "execution_count": 16,
   "metadata": {},
   "outputs": [],
   "source": [
    "import joblib"
   ]
  },
  {
   "cell_type": "code",
   "execution_count": 17,
   "metadata": {},
   "outputs": [
    {
     "data": {
      "text/plain": [
       "['best_model_fin_pro']"
      ]
     },
     "execution_count": 17,
     "metadata": {},
     "output_type": "execute_result"
    }
   ],
   "source": [
    "joblib.dump(model,'best_model_fin_pro')"
   ]
  },
  {
   "cell_type": "code",
   "execution_count": 18,
   "metadata": {},
   "outputs": [
    {
     "data": {
      "text/html": [
       "<div>\n",
       "<style scoped>\n",
       "    .dataframe tbody tr th:only-of-type {\n",
       "        vertical-align: middle;\n",
       "    }\n",
       "\n",
       "    .dataframe tbody tr th {\n",
       "        vertical-align: top;\n",
       "    }\n",
       "\n",
       "    .dataframe thead th {\n",
       "        text-align: right;\n",
       "    }\n",
       "</style>\n",
       "<table border=\"1\" class=\"dataframe\">\n",
       "  <thead>\n",
       "    <tr style=\"text-align: right;\">\n",
       "      <th></th>\n",
       "      <th>price</th>\n",
       "      <th>uses_ad_boosts</th>\n",
       "      <th>retail_price</th>\n",
       "      <th>rating_count</th>\n",
       "      <th>rating</th>\n",
       "      <th>badge_local_product</th>\n",
       "      <th>badge_product_quality</th>\n",
       "      <th>badge_fast_shipping</th>\n",
       "      <th>merchant_rating_count</th>\n",
       "      <th>merchant_rating</th>\n",
       "    </tr>\n",
       "  </thead>\n",
       "  <tbody>\n",
       "    <tr>\n",
       "      <th>0</th>\n",
       "      <td>16.00</td>\n",
       "      <td>0</td>\n",
       "      <td>14</td>\n",
       "      <td>54</td>\n",
       "      <td>3.76</td>\n",
       "      <td>0</td>\n",
       "      <td>0</td>\n",
       "      <td>0</td>\n",
       "      <td>568</td>\n",
       "      <td>4.128521</td>\n",
       "    </tr>\n",
       "    <tr>\n",
       "      <th>1</th>\n",
       "      <td>8.00</td>\n",
       "      <td>1</td>\n",
       "      <td>22</td>\n",
       "      <td>6135</td>\n",
       "      <td>3.45</td>\n",
       "      <td>0</td>\n",
       "      <td>0</td>\n",
       "      <td>0</td>\n",
       "      <td>17752</td>\n",
       "      <td>3.899673</td>\n",
       "    </tr>\n",
       "    <tr>\n",
       "      <th>2</th>\n",
       "      <td>8.00</td>\n",
       "      <td>0</td>\n",
       "      <td>43</td>\n",
       "      <td>14</td>\n",
       "      <td>3.57</td>\n",
       "      <td>0</td>\n",
       "      <td>0</td>\n",
       "      <td>0</td>\n",
       "      <td>295</td>\n",
       "      <td>3.989831</td>\n",
       "    </tr>\n",
       "    <tr>\n",
       "      <th>3</th>\n",
       "      <td>8.00</td>\n",
       "      <td>1</td>\n",
       "      <td>8</td>\n",
       "      <td>579</td>\n",
       "      <td>4.03</td>\n",
       "      <td>0</td>\n",
       "      <td>0</td>\n",
       "      <td>0</td>\n",
       "      <td>23832</td>\n",
       "      <td>4.020435</td>\n",
       "    </tr>\n",
       "    <tr>\n",
       "      <th>4</th>\n",
       "      <td>2.72</td>\n",
       "      <td>1</td>\n",
       "      <td>3</td>\n",
       "      <td>20</td>\n",
       "      <td>3.10</td>\n",
       "      <td>0</td>\n",
       "      <td>0</td>\n",
       "      <td>0</td>\n",
       "      <td>14482</td>\n",
       "      <td>4.001588</td>\n",
       "    </tr>\n",
       "    <tr>\n",
       "      <th>...</th>\n",
       "      <td>...</td>\n",
       "      <td>...</td>\n",
       "      <td>...</td>\n",
       "      <td>...</td>\n",
       "      <td>...</td>\n",
       "      <td>...</td>\n",
       "      <td>...</td>\n",
       "      <td>...</td>\n",
       "      <td>...</td>\n",
       "      <td>...</td>\n",
       "    </tr>\n",
       "    <tr>\n",
       "      <th>1509</th>\n",
       "      <td>6.00</td>\n",
       "      <td>1</td>\n",
       "      <td>9</td>\n",
       "      <td>1367</td>\n",
       "      <td>4.08</td>\n",
       "      <td>0</td>\n",
       "      <td>0</td>\n",
       "      <td>0</td>\n",
       "      <td>5316</td>\n",
       "      <td>4.224605</td>\n",
       "    </tr>\n",
       "    <tr>\n",
       "      <th>1510</th>\n",
       "      <td>2.00</td>\n",
       "      <td>1</td>\n",
       "      <td>56</td>\n",
       "      <td>28</td>\n",
       "      <td>3.07</td>\n",
       "      <td>0</td>\n",
       "      <td>0</td>\n",
       "      <td>0</td>\n",
       "      <td>4435</td>\n",
       "      <td>3.696054</td>\n",
       "    </tr>\n",
       "    <tr>\n",
       "      <th>1511</th>\n",
       "      <td>5.00</td>\n",
       "      <td>0</td>\n",
       "      <td>19</td>\n",
       "      <td>59</td>\n",
       "      <td>3.71</td>\n",
       "      <td>0</td>\n",
       "      <td>0</td>\n",
       "      <td>0</td>\n",
       "      <td>210</td>\n",
       "      <td>3.961905</td>\n",
       "    </tr>\n",
       "    <tr>\n",
       "      <th>1512</th>\n",
       "      <td>13.00</td>\n",
       "      <td>0</td>\n",
       "      <td>11</td>\n",
       "      <td>2</td>\n",
       "      <td>2.50</td>\n",
       "      <td>0</td>\n",
       "      <td>0</td>\n",
       "      <td>0</td>\n",
       "      <td>31</td>\n",
       "      <td>3.774194</td>\n",
       "    </tr>\n",
       "    <tr>\n",
       "      <th>1513</th>\n",
       "      <td>7.00</td>\n",
       "      <td>1</td>\n",
       "      <td>6</td>\n",
       "      <td>14</td>\n",
       "      <td>4.07</td>\n",
       "      <td>0</td>\n",
       "      <td>0</td>\n",
       "      <td>0</td>\n",
       "      <td>7023</td>\n",
       "      <td>4.235939</td>\n",
       "    </tr>\n",
       "  </tbody>\n",
       "</table>\n",
       "<p>1514 rows × 10 columns</p>\n",
       "</div>"
      ],
      "text/plain": [
       "      price  uses_ad_boosts  retail_price  rating_count  rating  \\\n",
       "0     16.00               0            14            54    3.76   \n",
       "1      8.00               1            22          6135    3.45   \n",
       "2      8.00               0            43            14    3.57   \n",
       "3      8.00               1             8           579    4.03   \n",
       "4      2.72               1             3            20    3.10   \n",
       "...     ...             ...           ...           ...     ...   \n",
       "1509   6.00               1             9          1367    4.08   \n",
       "1510   2.00               1            56            28    3.07   \n",
       "1511   5.00               0            19            59    3.71   \n",
       "1512  13.00               0            11             2    2.50   \n",
       "1513   7.00               1             6            14    4.07   \n",
       "\n",
       "      badge_local_product  badge_product_quality  badge_fast_shipping  \\\n",
       "0                       0                      0                    0   \n",
       "1                       0                      0                    0   \n",
       "2                       0                      0                    0   \n",
       "3                       0                      0                    0   \n",
       "4                       0                      0                    0   \n",
       "...                   ...                    ...                  ...   \n",
       "1509                    0                      0                    0   \n",
       "1510                    0                      0                    0   \n",
       "1511                    0                      0                    0   \n",
       "1512                    0                      0                    0   \n",
       "1513                    0                      0                    0   \n",
       "\n",
       "      merchant_rating_count  merchant_rating  \n",
       "0                       568         4.128521  \n",
       "1                     17752         3.899673  \n",
       "2                       295         3.989831  \n",
       "3                     23832         4.020435  \n",
       "4                     14482         4.001588  \n",
       "...                     ...              ...  \n",
       "1509                   5316         4.224605  \n",
       "1510                   4435         3.696054  \n",
       "1511                    210         3.961905  \n",
       "1512                     31         3.774194  \n",
       "1513                   7023         4.235939  \n",
       "\n",
       "[1514 rows x 10 columns]"
      ]
     },
     "execution_count": 18,
     "metadata": {},
     "output_type": "execute_result"
    }
   ],
   "source": [
    "X"
   ]
  },
  {
   "cell_type": "code",
   "execution_count": 19,
   "metadata": {},
   "outputs": [
    {
     "data": {
      "text/html": [
       "<div>\n",
       "<style scoped>\n",
       "    .dataframe tbody tr th:only-of-type {\n",
       "        vertical-align: middle;\n",
       "    }\n",
       "\n",
       "    .dataframe tbody tr th {\n",
       "        vertical-align: top;\n",
       "    }\n",
       "\n",
       "    .dataframe thead th {\n",
       "        text-align: right;\n",
       "    }\n",
       "</style>\n",
       "<table border=\"1\" class=\"dataframe\">\n",
       "  <thead>\n",
       "    <tr style=\"text-align: right;\">\n",
       "      <th></th>\n",
       "      <th>price</th>\n",
       "      <th>uses_ad_boosts</th>\n",
       "      <th>retail_price</th>\n",
       "      <th>rating_count</th>\n",
       "      <th>rating</th>\n",
       "      <th>badge_local_product</th>\n",
       "      <th>badge_product_quality</th>\n",
       "      <th>badge_fast_shipping</th>\n",
       "      <th>merchant_rating_count</th>\n",
       "      <th>merchant_rating</th>\n",
       "    </tr>\n",
       "  </thead>\n",
       "  <tbody>\n",
       "    <tr>\n",
       "      <th>869</th>\n",
       "      <td>11.00</td>\n",
       "      <td>1</td>\n",
       "      <td>11</td>\n",
       "      <td>1401</td>\n",
       "      <td>4.16</td>\n",
       "      <td>0</td>\n",
       "      <td>0</td>\n",
       "      <td>0</td>\n",
       "      <td>13879</td>\n",
       "      <td>4.054471</td>\n",
       "    </tr>\n",
       "    <tr>\n",
       "      <th>1279</th>\n",
       "      <td>19.00</td>\n",
       "      <td>1</td>\n",
       "      <td>17</td>\n",
       "      <td>61</td>\n",
       "      <td>4.33</td>\n",
       "      <td>0</td>\n",
       "      <td>0</td>\n",
       "      <td>0</td>\n",
       "      <td>487</td>\n",
       "      <td>4.234086</td>\n",
       "    </tr>\n",
       "    <tr>\n",
       "      <th>1333</th>\n",
       "      <td>14.00</td>\n",
       "      <td>1</td>\n",
       "      <td>139</td>\n",
       "      <td>2107</td>\n",
       "      <td>4.26</td>\n",
       "      <td>0</td>\n",
       "      <td>1</td>\n",
       "      <td>0</td>\n",
       "      <td>20387</td>\n",
       "      <td>4.193457</td>\n",
       "    </tr>\n",
       "    <tr>\n",
       "      <th>601</th>\n",
       "      <td>8.00</td>\n",
       "      <td>0</td>\n",
       "      <td>85</td>\n",
       "      <td>2</td>\n",
       "      <td>3.50</td>\n",
       "      <td>0</td>\n",
       "      <td>0</td>\n",
       "      <td>0</td>\n",
       "      <td>59234</td>\n",
       "      <td>3.987051</td>\n",
       "    </tr>\n",
       "    <tr>\n",
       "      <th>590</th>\n",
       "      <td>8.00</td>\n",
       "      <td>0</td>\n",
       "      <td>7</td>\n",
       "      <td>1649</td>\n",
       "      <td>3.28</td>\n",
       "      <td>0</td>\n",
       "      <td>0</td>\n",
       "      <td>0</td>\n",
       "      <td>6818</td>\n",
       "      <td>3.982400</td>\n",
       "    </tr>\n",
       "    <tr>\n",
       "      <th>...</th>\n",
       "      <td>...</td>\n",
       "      <td>...</td>\n",
       "      <td>...</td>\n",
       "      <td>...</td>\n",
       "      <td>...</td>\n",
       "      <td>...</td>\n",
       "      <td>...</td>\n",
       "      <td>...</td>\n",
       "      <td>...</td>\n",
       "      <td>...</td>\n",
       "    </tr>\n",
       "    <tr>\n",
       "      <th>1130</th>\n",
       "      <td>11.00</td>\n",
       "      <td>1</td>\n",
       "      <td>26</td>\n",
       "      <td>1</td>\n",
       "      <td>5.00</td>\n",
       "      <td>0</td>\n",
       "      <td>0</td>\n",
       "      <td>0</td>\n",
       "      <td>8685</td>\n",
       "      <td>4.140702</td>\n",
       "    </tr>\n",
       "    <tr>\n",
       "      <th>1294</th>\n",
       "      <td>2.00</td>\n",
       "      <td>0</td>\n",
       "      <td>2</td>\n",
       "      <td>5</td>\n",
       "      <td>4.80</td>\n",
       "      <td>0</td>\n",
       "      <td>0</td>\n",
       "      <td>0</td>\n",
       "      <td>42</td>\n",
       "      <td>3.666667</td>\n",
       "    </tr>\n",
       "    <tr>\n",
       "      <th>860</th>\n",
       "      <td>8.00</td>\n",
       "      <td>0</td>\n",
       "      <td>54</td>\n",
       "      <td>14568</td>\n",
       "      <td>3.69</td>\n",
       "      <td>0</td>\n",
       "      <td>0</td>\n",
       "      <td>0</td>\n",
       "      <td>78307</td>\n",
       "      <td>3.840257</td>\n",
       "    </tr>\n",
       "    <tr>\n",
       "      <th>1459</th>\n",
       "      <td>8.00</td>\n",
       "      <td>0</td>\n",
       "      <td>10</td>\n",
       "      <td>6</td>\n",
       "      <td>3.50</td>\n",
       "      <td>0</td>\n",
       "      <td>0</td>\n",
       "      <td>0</td>\n",
       "      <td>117</td>\n",
       "      <td>3.786325</td>\n",
       "    </tr>\n",
       "    <tr>\n",
       "      <th>1126</th>\n",
       "      <td>5.67</td>\n",
       "      <td>0</td>\n",
       "      <td>19</td>\n",
       "      <td>18393</td>\n",
       "      <td>3.53</td>\n",
       "      <td>0</td>\n",
       "      <td>0</td>\n",
       "      <td>0</td>\n",
       "      <td>19248</td>\n",
       "      <td>3.889131</td>\n",
       "    </tr>\n",
       "  </tbody>\n",
       "</table>\n",
       "<p>1211 rows × 10 columns</p>\n",
       "</div>"
      ],
      "text/plain": [
       "      price  uses_ad_boosts  retail_price  rating_count  rating  \\\n",
       "869   11.00               1            11          1401    4.16   \n",
       "1279  19.00               1            17            61    4.33   \n",
       "1333  14.00               1           139          2107    4.26   \n",
       "601    8.00               0            85             2    3.50   \n",
       "590    8.00               0             7          1649    3.28   \n",
       "...     ...             ...           ...           ...     ...   \n",
       "1130  11.00               1            26             1    5.00   \n",
       "1294   2.00               0             2             5    4.80   \n",
       "860    8.00               0            54         14568    3.69   \n",
       "1459   8.00               0            10             6    3.50   \n",
       "1126   5.67               0            19         18393    3.53   \n",
       "\n",
       "      badge_local_product  badge_product_quality  badge_fast_shipping  \\\n",
       "869                     0                      0                    0   \n",
       "1279                    0                      0                    0   \n",
       "1333                    0                      1                    0   \n",
       "601                     0                      0                    0   \n",
       "590                     0                      0                    0   \n",
       "...                   ...                    ...                  ...   \n",
       "1130                    0                      0                    0   \n",
       "1294                    0                      0                    0   \n",
       "860                     0                      0                    0   \n",
       "1459                    0                      0                    0   \n",
       "1126                    0                      0                    0   \n",
       "\n",
       "      merchant_rating_count  merchant_rating  \n",
       "869                   13879         4.054471  \n",
       "1279                    487         4.234086  \n",
       "1333                  20387         4.193457  \n",
       "601                   59234         3.987051  \n",
       "590                    6818         3.982400  \n",
       "...                     ...              ...  \n",
       "1130                   8685         4.140702  \n",
       "1294                     42         3.666667  \n",
       "860                   78307         3.840257  \n",
       "1459                    117         3.786325  \n",
       "1126                  19248         3.889131  \n",
       "\n",
       "[1211 rows x 10 columns]"
      ]
     },
     "execution_count": 19,
     "metadata": {},
     "output_type": "execute_result"
    }
   ],
   "source": [
    "X_train"
   ]
  },
  {
   "cell_type": "code",
   "execution_count": 20,
   "metadata": {},
   "outputs": [
    {
     "data": {
      "text/html": [
       "<div>\n",
       "<style scoped>\n",
       "    .dataframe tbody tr th:only-of-type {\n",
       "        vertical-align: middle;\n",
       "    }\n",
       "\n",
       "    .dataframe tbody tr th {\n",
       "        vertical-align: top;\n",
       "    }\n",
       "\n",
       "    .dataframe thead th {\n",
       "        text-align: right;\n",
       "    }\n",
       "</style>\n",
       "<table border=\"1\" class=\"dataframe\">\n",
       "  <thead>\n",
       "    <tr style=\"text-align: right;\">\n",
       "      <th></th>\n",
       "      <th>price</th>\n",
       "      <th>uses_ad_boosts</th>\n",
       "      <th>retail_price</th>\n",
       "      <th>rating_count</th>\n",
       "      <th>rating</th>\n",
       "      <th>badge_local_product</th>\n",
       "      <th>badge_product_quality</th>\n",
       "      <th>badge_fast_shipping</th>\n",
       "      <th>merchant_rating_count</th>\n",
       "      <th>merchant_rating</th>\n",
       "    </tr>\n",
       "  </thead>\n",
       "  <tbody>\n",
       "    <tr>\n",
       "      <th>count</th>\n",
       "      <td>1514.000000</td>\n",
       "      <td>1514.000000</td>\n",
       "      <td>1514.000000</td>\n",
       "      <td>1514.000000</td>\n",
       "      <td>1514.000000</td>\n",
       "      <td>1514.000000</td>\n",
       "      <td>1514.000000</td>\n",
       "      <td>1514.000000</td>\n",
       "      <td>1.514000e+03</td>\n",
       "      <td>1514.000000</td>\n",
       "    </tr>\n",
       "    <tr>\n",
       "      <th>mean</th>\n",
       "      <td>8.340667</td>\n",
       "      <td>0.433289</td>\n",
       "      <td>23.384412</td>\n",
       "      <td>911.297226</td>\n",
       "      <td>3.783917</td>\n",
       "      <td>0.017834</td>\n",
       "      <td>0.075297</td>\n",
       "      <td>0.013210</td>\n",
       "      <td>2.597702e+04</td>\n",
       "      <td>4.030857</td>\n",
       "    </tr>\n",
       "    <tr>\n",
       "      <th>std</th>\n",
       "      <td>3.917279</td>\n",
       "      <td>0.495693</td>\n",
       "      <td>30.673906</td>\n",
       "      <td>2007.934924</td>\n",
       "      <td>0.481118</td>\n",
       "      <td>0.132390</td>\n",
       "      <td>0.263958</td>\n",
       "      <td>0.114211</td>\n",
       "      <td>7.639055e+04</td>\n",
       "      <td>0.197419</td>\n",
       "    </tr>\n",
       "    <tr>\n",
       "      <th>min</th>\n",
       "      <td>1.000000</td>\n",
       "      <td>0.000000</td>\n",
       "      <td>1.000000</td>\n",
       "      <td>1.000000</td>\n",
       "      <td>1.000000</td>\n",
       "      <td>0.000000</td>\n",
       "      <td>0.000000</td>\n",
       "      <td>0.000000</td>\n",
       "      <td>3.000000e+00</td>\n",
       "      <td>2.941176</td>\n",
       "    </tr>\n",
       "    <tr>\n",
       "      <th>25%</th>\n",
       "      <td>5.840000</td>\n",
       "      <td>0.000000</td>\n",
       "      <td>7.000000</td>\n",
       "      <td>27.000000</td>\n",
       "      <td>3.530000</td>\n",
       "      <td>0.000000</td>\n",
       "      <td>0.000000</td>\n",
       "      <td>0.000000</td>\n",
       "      <td>2.087000e+03</td>\n",
       "      <td>3.917377</td>\n",
       "    </tr>\n",
       "    <tr>\n",
       "      <th>50%</th>\n",
       "      <td>8.000000</td>\n",
       "      <td>0.000000</td>\n",
       "      <td>10.000000</td>\n",
       "      <td>164.000000</td>\n",
       "      <td>3.830000</td>\n",
       "      <td>0.000000</td>\n",
       "      <td>0.000000</td>\n",
       "      <td>0.000000</td>\n",
       "      <td>8.191000e+03</td>\n",
       "      <td>4.040575</td>\n",
       "    </tr>\n",
       "    <tr>\n",
       "      <th>75%</th>\n",
       "      <td>11.000000</td>\n",
       "      <td>1.000000</td>\n",
       "      <td>26.000000</td>\n",
       "      <td>874.500000</td>\n",
       "      <td>4.087500</td>\n",
       "      <td>0.000000</td>\n",
       "      <td>0.000000</td>\n",
       "      <td>0.000000</td>\n",
       "      <td>2.456400e+04</td>\n",
       "      <td>4.157631</td>\n",
       "    </tr>\n",
       "    <tr>\n",
       "      <th>max</th>\n",
       "      <td>49.000000</td>\n",
       "      <td>1.000000</td>\n",
       "      <td>252.000000</td>\n",
       "      <td>20744.000000</td>\n",
       "      <td>5.000000</td>\n",
       "      <td>1.000000</td>\n",
       "      <td>1.000000</td>\n",
       "      <td>1.000000</td>\n",
       "      <td>2.174765e+06</td>\n",
       "      <td>4.577519</td>\n",
       "    </tr>\n",
       "  </tbody>\n",
       "</table>\n",
       "</div>"
      ],
      "text/plain": [
       "             price  uses_ad_boosts  retail_price  rating_count       rating  \\\n",
       "count  1514.000000     1514.000000   1514.000000   1514.000000  1514.000000   \n",
       "mean      8.340667        0.433289     23.384412    911.297226     3.783917   \n",
       "std       3.917279        0.495693     30.673906   2007.934924     0.481118   \n",
       "min       1.000000        0.000000      1.000000      1.000000     1.000000   \n",
       "25%       5.840000        0.000000      7.000000     27.000000     3.530000   \n",
       "50%       8.000000        0.000000     10.000000    164.000000     3.830000   \n",
       "75%      11.000000        1.000000     26.000000    874.500000     4.087500   \n",
       "max      49.000000        1.000000    252.000000  20744.000000     5.000000   \n",
       "\n",
       "       badge_local_product  badge_product_quality  badge_fast_shipping  \\\n",
       "count          1514.000000            1514.000000          1514.000000   \n",
       "mean              0.017834               0.075297             0.013210   \n",
       "std               0.132390               0.263958             0.114211   \n",
       "min               0.000000               0.000000             0.000000   \n",
       "25%               0.000000               0.000000             0.000000   \n",
       "50%               0.000000               0.000000             0.000000   \n",
       "75%               0.000000               0.000000             0.000000   \n",
       "max               1.000000               1.000000             1.000000   \n",
       "\n",
       "       merchant_rating_count  merchant_rating  \n",
       "count           1.514000e+03      1514.000000  \n",
       "mean            2.597702e+04         4.030857  \n",
       "std             7.639055e+04         0.197419  \n",
       "min             3.000000e+00         2.941176  \n",
       "25%             2.087000e+03         3.917377  \n",
       "50%             8.191000e+03         4.040575  \n",
       "75%             2.456400e+04         4.157631  \n",
       "max             2.174765e+06         4.577519  "
      ]
     },
     "execution_count": 20,
     "metadata": {},
     "output_type": "execute_result"
    }
   ],
   "source": [
    "X.describe()"
   ]
  },
  {
   "cell_type": "code",
   "execution_count": 21,
   "metadata": {},
   "outputs": [
    {
     "name": "stdin",
     "output_type": "stream",
     "text": [
      "price ?  12\n",
      "uses_ad_boosts ?  1\n",
      "retail_price ?  200\n",
      "rating_count ?  10000\n",
      "rating ?  5\n",
      "badge_local_product ?  1\n",
      "badge_product_quality ?  1\n",
      "badge_fast_shipping ?  1\n",
      "merchant_rating_count ?  100000\n",
      "merchant_rating ?  4\n"
     ]
    },
    {
     "data": {
      "text/html": [
       "<div>\n",
       "<style scoped>\n",
       "    .dataframe tbody tr th:only-of-type {\n",
       "        vertical-align: middle;\n",
       "    }\n",
       "\n",
       "    .dataframe tbody tr th {\n",
       "        vertical-align: top;\n",
       "    }\n",
       "\n",
       "    .dataframe thead th {\n",
       "        text-align: right;\n",
       "    }\n",
       "</style>\n",
       "<table border=\"1\" class=\"dataframe\">\n",
       "  <thead>\n",
       "    <tr style=\"text-align: right;\">\n",
       "      <th></th>\n",
       "      <th>price</th>\n",
       "      <th>uses_ad_boosts</th>\n",
       "      <th>retail_price</th>\n",
       "      <th>rating_count</th>\n",
       "      <th>rating</th>\n",
       "      <th>badge_local_product</th>\n",
       "      <th>badge_product_quality</th>\n",
       "      <th>badge_fast_shipping</th>\n",
       "      <th>merchant_rating_count</th>\n",
       "      <th>merchant_rating</th>\n",
       "    </tr>\n",
       "  </thead>\n",
       "  <tbody>\n",
       "    <tr>\n",
       "      <th>0</th>\n",
       "      <td>12.0</td>\n",
       "      <td>1</td>\n",
       "      <td>200</td>\n",
       "      <td>10000</td>\n",
       "      <td>5.0</td>\n",
       "      <td>1</td>\n",
       "      <td>1</td>\n",
       "      <td>1</td>\n",
       "      <td>100000</td>\n",
       "      <td>4.0</td>\n",
       "    </tr>\n",
       "  </tbody>\n",
       "</table>\n",
       "</div>"
      ],
      "text/plain": [
       "   price  uses_ad_boosts  retail_price  rating_count  rating  \\\n",
       "0   12.0               1           200         10000     5.0   \n",
       "\n",
       "   badge_local_product  badge_product_quality  badge_fast_shipping  \\\n",
       "0                    1                      1                    1   \n",
       "\n",
       "   merchant_rating_count  merchant_rating  \n",
       "0                 100000              4.0  "
      ]
     },
     "execution_count": 21,
     "metadata": {},
     "output_type": "execute_result"
    }
   ],
   "source": [
    "a = float(input('price ? '))\n",
    "b = int(input('uses_ad_boosts ? '))\n",
    "c = int(input('retail_price ? '))\n",
    "d = int(input('rating_count ? '))\n",
    "e = float(input('rating ? '))\n",
    "f = int(input('badge_local_product ? '))\n",
    "g = int(input('badge_product_quality ? '))\n",
    "h = int(input('badge_fast_shipping ? '))\n",
    "i = int(input('merchant_rating_count ? '))\n",
    "j = float(input('merchant_rating ? '))\n",
    "\n",
    "# price ?  12\n",
    "# uses_ad_boosts ?  1\n",
    "# retail_price ?  200\n",
    "# rating_count ?  10000\n",
    "# rating ?  5\n",
    "# badge_local_product ?  1\n",
    "# badge_product_quality ?  1\n",
    "# badge_fast_shipping ?  1\n",
    "# merchant_rating_count ?  100000\n",
    "# merchant_rating ?  4\n",
    "\n",
    "\n",
    "df = pd.DataFrame([[a,b,c,d,e,f,g,h,i,j]],columns = X_test.columns)\n",
    "df"
   ]
  },
  {
   "cell_type": "code",
   "execution_count": 22,
   "metadata": {},
   "outputs": [
    {
     "name": "stdout",
     "output_type": "stream",
     "text": [
      "<class 'pandas.core.frame.DataFrame'>\n",
      "RangeIndex: 1514 entries, 0 to 1513\n",
      "Data columns (total 10 columns):\n",
      " #   Column                 Non-Null Count  Dtype  \n",
      "---  ------                 --------------  -----  \n",
      " 0   price                  1514 non-null   float64\n",
      " 1   uses_ad_boosts         1514 non-null   int64  \n",
      " 2   retail_price           1514 non-null   int64  \n",
      " 3   rating_count           1514 non-null   int64  \n",
      " 4   rating                 1514 non-null   float64\n",
      " 5   badge_local_product    1514 non-null   int64  \n",
      " 6   badge_product_quality  1514 non-null   int64  \n",
      " 7   badge_fast_shipping    1514 non-null   int64  \n",
      " 8   merchant_rating_count  1514 non-null   int64  \n",
      " 9   merchant_rating        1514 non-null   float64\n",
      "dtypes: float64(3), int64(7)\n",
      "memory usage: 118.4 KB\n"
     ]
    }
   ],
   "source": [
    "X.info()"
   ]
  },
  {
   "cell_type": "code",
   "execution_count": 23,
   "metadata": {},
   "outputs": [],
   "source": [
    "hh = model.predict(df)"
   ]
  },
  {
   "cell_type": "code",
   "execution_count": 24,
   "metadata": {},
   "outputs": [
    {
     "data": {
      "text/plain": [
       "39180.0"
      ]
     },
     "execution_count": 24,
     "metadata": {},
     "output_type": "execute_result"
    }
   ],
   "source": [
    "hh[0]"
   ]
  },
  {
   "cell_type": "code",
   "execution_count": null,
   "metadata": {},
   "outputs": [],
   "source": []
  }
 ],
 "metadata": {
  "kernelspec": {
   "display_name": "Python 3",
   "language": "python",
   "name": "python3"
  },
  "language_info": {
   "codemirror_mode": {
    "name": "ipython",
    "version": 3
   },
   "file_extension": ".py",
   "mimetype": "text/x-python",
   "name": "python",
   "nbconvert_exporter": "python",
   "pygments_lexer": "ipython3",
   "version": "3.8.3"
  }
 },
 "nbformat": 4,
 "nbformat_minor": 4
}
